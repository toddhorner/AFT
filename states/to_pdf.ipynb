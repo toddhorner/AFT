{
 "cells": [
  {
   "cell_type": "code",
   "execution_count": 1,
   "metadata": {
    "collapsed": true
   },
   "outputs": [],
   "source": [
    "import pdfkit\n",
    "import os\n",
    "import re"
   ]
  },
  {
   "cell_type": "code",
   "execution_count": 2,
   "metadata": {
    "collapsed": true
   },
   "outputs": [],
   "source": [
    "root = 'tohorner.github.io/AFT/states/'"
   ]
  },
  {
   "cell_type": "code",
   "execution_count": 3,
   "metadata": {
    "collapsed": true
   },
   "outputs": [
    {
     "data": {
      "text/plain": [
       "['tohorner.github.io/AFT/states/MO',\n",
       " 'tohorner.github.io/AFT/states/MT',\n",
       " 'tohorner.github.io/AFT/states/NC',\n",
       " 'tohorner.github.io/AFT/states/ND',\n",
       " 'tohorner.github.io/AFT/states/NE',\n",
       " 'tohorner.github.io/AFT/states/NH',\n",
       " 'tohorner.github.io/AFT/states/NM',\n",
       " 'tohorner.github.io/AFT/states/NV',\n",
       " 'tohorner.github.io/AFT/states/OH',\n",
       " 'tohorner.github.io/AFT/states/OK',\n",
       " 'tohorner.github.io/AFT/states/PA',\n",
       " 'tohorner.github.io/AFT/states/RI',\n",
       " 'tohorner.github.io/AFT/states/SC',\n",
       " 'tohorner.github.io/AFT/states/SD',\n",
       " 'tohorner.github.io/AFT/states/TN',\n",
       " 'tohorner.github.io/AFT/states/TX',\n",
       " 'tohorner.github.io/AFT/states/UT',\n",
       " 'tohorner.github.io/AFT/states/WA']"
      ]
     },
     "execution_count": 3,
     "metadata": {},
     "output_type": "execute_result"
    }
   ],
   "source": [
    "files = os.listdir('.')\n",
    "urls = [root + file[:2] for file in files if file.find('.md') > -1 and file[0].isupper()]\n",
    "urls"
   ]
  },
  {
   "cell_type": "code",
   "execution_count": 20,
   "metadata": {},
   "outputs": [],
   "source": [
    "url = 'tohorner.github.io/AFT/states/WA'\n",
    "path = os.getcwd()"
   ]
  },
  {
   "cell_type": "code",
   "execution_count": 55,
   "metadata": {},
   "outputs": [],
   "source": [
    "options = {\n",
    "    'page-size': 'Letter',\n",
    "    'margin-top': '0.75in',\n",
    "    'margin-right': '0.75in',\n",
    "    'margin-bottom': '0.75in',\n",
    "    'margin-left': '0.75in',\n",
    "    'no-outline': None,\n",
    "    'dpi': 700,\n",
    "}"
   ]
  },
  {
   "cell_type": "code",
   "execution_count": 56,
   "metadata": {},
   "outputs": [
    {
     "name": "stdout",
     "output_type": "stream",
     "text": [
      "Loading pages (1/6)\n",
      "[>                                                           ] 0%\r",
      "[======>                                                     ] 10%\r",
      "[===========>                                                ] 19%\r",
      "[==============>                                             ] 24%\r",
      "[===============>                                            ] 26%\r",
      "[=================>                                          ] 29%\r",
      "[===================>                                        ] 32%\r",
      "[=====================>                                      ] 35%\r",
      "[======================>                                     ] 38%\r",
      "[========================>                                   ] 40%\r",
      "[=========================>                                  ] 43%\r",
      "[===========================>                                ] 46%\r",
      "[============================================================] 100%\r",
      "Counting pages (2/6)                                               \n",
      "[============================================================] Object 1 of 1\r",
      "Resolving links (4/6)                                                       \n",
      "[============================================================] Object 1 of 1\r",
      "Loading headers and footers (5/6)                                           \n",
      "Printing pages (6/6)\n",
      "[>                                                           ] Preparing\r",
      "[============>                                               ] Page 1 of 5\r",
      "[========================>                                   ] Page 2 of 5\r",
      "[====================================>                       ] Page 3 of 5\r",
      "[================================================>           ] Page 4 of 5\r",
      "[============================================================] Page 5 of 5\r",
      "Done                                                                      \n"
     ]
    }
   ],
   "source": [
    "PDFs = pdfkit.from_url(url,path + '/WA.pdf',options=options)"
   ]
  },
  {
   "cell_type": "code",
   "execution_count": 48,
   "metadata": {
    "collapsed": true
   },
   "outputs": [],
   "source": [
    "pdfkit.from_url?"
   ]
  },
  {
   "cell_type": "code",
   "execution_count": null,
   "metadata": {
    "collapsed": true
   },
   "outputs": [],
   "source": []
  }
 ],
 "metadata": {
  "kernelspec": {
   "display_name": "Python [default]",
   "language": "python",
   "name": "python2"
  },
  "language_info": {
   "codemirror_mode": {
    "name": "ipython",
    "version": 2
   },
   "file_extension": ".py",
   "mimetype": "text/x-python",
   "name": "python",
   "nbconvert_exporter": "python",
   "pygments_lexer": "ipython2",
   "version": "2.7.13"
  }
 },
 "nbformat": 4,
 "nbformat_minor": 1
}
